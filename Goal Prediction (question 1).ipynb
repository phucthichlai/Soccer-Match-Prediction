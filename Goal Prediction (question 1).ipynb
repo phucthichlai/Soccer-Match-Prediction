{
 "cells": [
  {
   "cell_type": "markdown",
   "id": "f5271985",
   "metadata": {},
   "source": [
    "<h3>Question 1: Please estimate the expected goals for United Arab Emirates vs Thailand (3/28) in the Friendly in United Arab Emirates.</h3>"
   ]
  },
  {
   "cell_type": "code",
   "execution_count": 2,
   "id": "732fafb5",
   "metadata": {},
   "outputs": [],
   "source": [
    "import pandas as pd\n",
    "import numpy as np\n",
    "import matplotlib.pyplot as plt\n",
    "import seaborn as sns"
   ]
  },
  {
   "cell_type": "markdown",
   "id": "2731e44c",
   "metadata": {},
   "source": [
    "<h2>Processing data on Excel</h2>\n",
    "\n",
    "<p>To simplize as well as enlarge the dataset, I duplicated it, then take the <strong>home team</strong> in one dataset, and <strong>away team</strong> in the other to merge into one column <strong>\"team\"</strong> . I also modified or converted the following:</p>\n",
    "   <ul>\n",
    "    <li>the <strong>\"h_rating\"</strong> and <strong>\"a_rating\"</strong> were converted into <strong>\"rating\"</strong> (the team's rating) and <strong>\"opp_rating\"</strong> (opponent's rating)</li>\n",
    "    <li><strong>\"h_goal\"</strong> and <strong>\"a_goal\"</strong> into <strong>\"goal_scored\"</strong> (number of goals scored by home team) and <strong>\"goal_conceded\"</strong> (number of goals scored by the opposing team).</li>\n",
    "    <li><strong>\"neutral\"</strong> into <strong>\"home_advantage\"</strong> (with 3 categories: \"-1\" if the team played in the opponent's field, \"0\" if the game was neutral, and \"1\" if the team played in their home field).</li>\n",
    "    <li>The column <strong>\"rating_diff\"</strong> (Rating difference between the team and their opponent) was added because my hypothesis is that whatever rating the team has, they can win or lose, score 0 goal or 10 goals, which means the rating would merely affects the team's goal in a match. However, the rating difference can have a considerable impact on the result.</li> \n",
    "    <li><strong>\"year\"</strong>,<strong>\"date\"</strong>, and <strong>\"tournament\"</strong> attributes were removed because of no contribution to quiz 1</li>\n",
    "</ul>"
   ]
  },
  {
   "cell_type": "markdown",
   "id": "e2efbfea",
   "metadata": {},
   "source": [
    "<h2>Data preprocessing on Python</h2>"
   ]
  },
  {
   "cell_type": "code",
   "execution_count": 4,
   "id": "8b74da63",
   "metadata": {},
   "outputs": [
    {
     "data": {
      "text/html": [
       "<div>\n",
       "<style scoped>\n",
       "    .dataframe tbody tr th:only-of-type {\n",
       "        vertical-align: middle;\n",
       "    }\n",
       "\n",
       "    .dataframe tbody tr th {\n",
       "        vertical-align: top;\n",
       "    }\n",
       "\n",
       "    .dataframe thead th {\n",
       "        text-align: right;\n",
       "    }\n",
       "</style>\n",
       "<table border=\"1\" class=\"dataframe\">\n",
       "  <thead>\n",
       "    <tr style=\"text-align: right;\">\n",
       "      <th></th>\n",
       "      <th>team</th>\n",
       "      <th>rating</th>\n",
       "      <th>opp_rating</th>\n",
       "      <th>goal_score</th>\n",
       "      <th>goal_conceded</th>\n",
       "      <th>home_advantage</th>\n",
       "      <th>rating_diff</th>\n",
       "    </tr>\n",
       "  </thead>\n",
       "  <tbody>\n",
       "    <tr>\n",
       "      <th>0</th>\n",
       "      <td>Iraq</td>\n",
       "      <td>1570</td>\n",
       "      <td>1560</td>\n",
       "      <td>0</td>\n",
       "      <td>0</td>\n",
       "      <td>0</td>\n",
       "      <td>10</td>\n",
       "    </tr>\n",
       "    <tr>\n",
       "      <th>1</th>\n",
       "      <td>Oman</td>\n",
       "      <td>1511</td>\n",
       "      <td>1418</td>\n",
       "      <td>1</td>\n",
       "      <td>0</td>\n",
       "      <td>0</td>\n",
       "      <td>93</td>\n",
       "    </tr>\n",
       "    <tr>\n",
       "      <th>2</th>\n",
       "      <td>United Arab Emirates</td>\n",
       "      <td>1561</td>\n",
       "      <td>1526</td>\n",
       "      <td>0</td>\n",
       "      <td>0</td>\n",
       "      <td>0</td>\n",
       "      <td>35</td>\n",
       "    </tr>\n",
       "    <tr>\n",
       "      <th>3</th>\n",
       "      <td>Sweden</td>\n",
       "      <td>1825</td>\n",
       "      <td>1508</td>\n",
       "      <td>1</td>\n",
       "      <td>1</td>\n",
       "      <td>0</td>\n",
       "      <td>317</td>\n",
       "    </tr>\n",
       "    <tr>\n",
       "      <th>4</th>\n",
       "      <td>Finland</td>\n",
       "      <td>1595</td>\n",
       "      <td>1480</td>\n",
       "      <td>2</td>\n",
       "      <td>1</td>\n",
       "      <td>0</td>\n",
       "      <td>115</td>\n",
       "    </tr>\n",
       "  </tbody>\n",
       "</table>\n",
       "</div>"
      ],
      "text/plain": [
       "                   team  rating  opp_rating  goal_score  goal_conceded  \\\n",
       "0                  Iraq    1570        1560           0              0   \n",
       "1                  Oman    1511        1418           1              0   \n",
       "2  United Arab Emirates    1561        1526           0              0   \n",
       "3                Sweden    1825        1508           1              1   \n",
       "4               Finland    1595        1480           2              1   \n",
       "\n",
       "   home_advantage  rating_diff  \n",
       "0               0           10  \n",
       "1               0           93  \n",
       "2               0           35  \n",
       "3               0          317  \n",
       "4               0          115  "
      ]
     },
     "execution_count": 4,
     "metadata": {},
     "output_type": "execute_result"
    }
   ],
   "source": [
    "data = \"/Users/dobaophuc/Documents/học data analyst/dataset/World Football Results 2018 to 2023.xlsx\"\n",
    "df = pd.read_excel(data, sheet_name ='datapro')\n",
    "df.head()"
   ]
  },
  {
   "cell_type": "markdown",
   "id": "9a0133d7",
   "metadata": {},
   "source": [
    "<p>Checking the data types and whether there are something unusual in other statistical figures...</p>"
   ]
  },
  {
   "cell_type": "code",
   "execution_count": 5,
   "id": "6bac01ef",
   "metadata": {},
   "outputs": [
    {
     "name": "stdout",
     "output_type": "stream",
     "text": [
      "<class 'pandas.core.frame.DataFrame'>\n",
      "RangeIndex: 8300 entries, 0 to 8299\n",
      "Data columns (total 7 columns):\n",
      " #   Column          Non-Null Count  Dtype \n",
      "---  ------          --------------  ----- \n",
      " 0   team            8300 non-null   object\n",
      " 1   rating          8300 non-null   int64 \n",
      " 2   opp_rating      8300 non-null   int64 \n",
      " 3   goal_score      8300 non-null   int64 \n",
      " 4   goal_conceded   8300 non-null   int64 \n",
      " 5   home_advantage  8300 non-null   int64 \n",
      " 6   rating_diff     8300 non-null   int64 \n",
      "dtypes: int64(6), object(1)\n",
      "memory usage: 454.0+ KB\n"
     ]
    }
   ],
   "source": [
    "df.info()"
   ]
  },
  {
   "cell_type": "code",
   "execution_count": 6,
   "id": "65f94062",
   "metadata": {
    "scrolled": true
   },
   "outputs": [
    {
     "data": {
      "text/html": [
       "<div>\n",
       "<style scoped>\n",
       "    .dataframe tbody tr th:only-of-type {\n",
       "        vertical-align: middle;\n",
       "    }\n",
       "\n",
       "    .dataframe tbody tr th {\n",
       "        vertical-align: top;\n",
       "    }\n",
       "\n",
       "    .dataframe thead th {\n",
       "        text-align: right;\n",
       "    }\n",
       "</style>\n",
       "<table border=\"1\" class=\"dataframe\">\n",
       "  <thead>\n",
       "    <tr style=\"text-align: right;\">\n",
       "      <th></th>\n",
       "      <th>rating</th>\n",
       "      <th>opp_rating</th>\n",
       "      <th>goal_score</th>\n",
       "      <th>goal_conceded</th>\n",
       "      <th>home_advantage</th>\n",
       "      <th>rating_diff</th>\n",
       "    </tr>\n",
       "  </thead>\n",
       "  <tbody>\n",
       "    <tr>\n",
       "      <th>count</th>\n",
       "      <td>8300.000000</td>\n",
       "      <td>8300.000000</td>\n",
       "      <td>8300.000000</td>\n",
       "      <td>8300.000000</td>\n",
       "      <td>8300.000000</td>\n",
       "      <td>8300.000000</td>\n",
       "    </tr>\n",
       "    <tr>\n",
       "      <th>mean</th>\n",
       "      <td>1481.618434</td>\n",
       "      <td>1481.618434</td>\n",
       "      <td>1.314578</td>\n",
       "      <td>1.314578</td>\n",
       "      <td>0.000000</td>\n",
       "      <td>0.000000</td>\n",
       "    </tr>\n",
       "    <tr>\n",
       "      <th>std</th>\n",
       "      <td>323.433535</td>\n",
       "      <td>323.433535</td>\n",
       "      <td>1.471079</td>\n",
       "      <td>1.471079</td>\n",
       "      <td>0.827879</td>\n",
       "      <td>281.389151</td>\n",
       "    </tr>\n",
       "    <tr>\n",
       "      <th>min</th>\n",
       "      <td>395.000000</td>\n",
       "      <td>395.000000</td>\n",
       "      <td>0.000000</td>\n",
       "      <td>0.000000</td>\n",
       "      <td>-1.000000</td>\n",
       "      <td>-1234.000000</td>\n",
       "    </tr>\n",
       "    <tr>\n",
       "      <th>25%</th>\n",
       "      <td>1282.000000</td>\n",
       "      <td>1282.000000</td>\n",
       "      <td>0.000000</td>\n",
       "      <td>0.000000</td>\n",
       "      <td>-1.000000</td>\n",
       "      <td>-170.000000</td>\n",
       "    </tr>\n",
       "    <tr>\n",
       "      <th>50%</th>\n",
       "      <td>1504.000000</td>\n",
       "      <td>1504.000000</td>\n",
       "      <td>1.000000</td>\n",
       "      <td>1.000000</td>\n",
       "      <td>0.000000</td>\n",
       "      <td>0.000000</td>\n",
       "    </tr>\n",
       "    <tr>\n",
       "      <th>75%</th>\n",
       "      <td>1723.000000</td>\n",
       "      <td>1723.000000</td>\n",
       "      <td>2.000000</td>\n",
       "      <td>2.000000</td>\n",
       "      <td>1.000000</td>\n",
       "      <td>170.000000</td>\n",
       "    </tr>\n",
       "    <tr>\n",
       "      <th>max</th>\n",
       "      <td>2195.000000</td>\n",
       "      <td>2195.000000</td>\n",
       "      <td>14.000000</td>\n",
       "      <td>14.000000</td>\n",
       "      <td>1.000000</td>\n",
       "      <td>1234.000000</td>\n",
       "    </tr>\n",
       "  </tbody>\n",
       "</table>\n",
       "</div>"
      ],
      "text/plain": [
       "            rating   opp_rating   goal_score  goal_conceded  home_advantage  \\\n",
       "count  8300.000000  8300.000000  8300.000000    8300.000000     8300.000000   \n",
       "mean   1481.618434  1481.618434     1.314578       1.314578        0.000000   \n",
       "std     323.433535   323.433535     1.471079       1.471079        0.827879   \n",
       "min     395.000000   395.000000     0.000000       0.000000       -1.000000   \n",
       "25%    1282.000000  1282.000000     0.000000       0.000000       -1.000000   \n",
       "50%    1504.000000  1504.000000     1.000000       1.000000        0.000000   \n",
       "75%    1723.000000  1723.000000     2.000000       2.000000        1.000000   \n",
       "max    2195.000000  2195.000000    14.000000      14.000000        1.000000   \n",
       "\n",
       "       rating_diff  \n",
       "count  8300.000000  \n",
       "mean      0.000000  \n",
       "std     281.389151  \n",
       "min   -1234.000000  \n",
       "25%    -170.000000  \n",
       "50%       0.000000  \n",
       "75%     170.000000  \n",
       "max    1234.000000  "
      ]
     },
     "execution_count": 6,
     "metadata": {},
     "output_type": "execute_result"
    }
   ],
   "source": [
    "df.describe()"
   ]
  },
  {
   "cell_type": "markdown",
   "id": "90e22e43",
   "metadata": {},
   "source": [
    "<p>Nothing unusual yet... Let's go ahead to check <strong>missing values</strong> and <strong>duplicated entries</strong>...</p>"
   ]
  },
  {
   "cell_type": "code",
   "execution_count": 16,
   "id": "328bb3f7",
   "metadata": {},
   "outputs": [
    {
     "data": {
      "text/plain": [
       "team              0\n",
       "rating            0\n",
       "opp_rating        0\n",
       "goal_score        0\n",
       "goal_conceded     0\n",
       "home_advantage    0\n",
       "rating_diff       0\n",
       "dtype: int64"
      ]
     },
     "execution_count": 16,
     "metadata": {},
     "output_type": "execute_result"
    }
   ],
   "source": [
    "df.isnull().sum()\n"
   ]
  },
  {
   "cell_type": "code",
   "execution_count": 17,
   "id": "20cc2d4e",
   "metadata": {},
   "outputs": [
    {
     "data": {
      "text/plain": [
       "False"
      ]
     },
     "execution_count": 17,
     "metadata": {},
     "output_type": "execute_result"
    }
   ],
   "source": [
    "df.duplicated().any()"
   ]
  },
  {
   "cell_type": "markdown",
   "id": "47a99013",
   "metadata": {},
   "source": [
    "<h2>Model Development</h2>"
   ]
  },
  {
   "cell_type": "markdown",
   "id": "0d4dd554",
   "metadata": {},
   "source": [
    "<h4>Check correlation between the dependent variable \"goal_score\" and other variables.</h4>"
   ]
  },
  {
   "cell_type": "code",
   "execution_count": 18,
   "id": "397b3ed3",
   "metadata": {},
   "outputs": [
    {
     "data": {
      "text/plain": [
       "opp_rating       -0.270920\n",
       "goal_conceded    -0.210437\n",
       "rating            0.157520\n",
       "home_advantage    0.178883\n",
       "rating_diff       0.492457\n",
       "goal_score        1.000000\n",
       "Name: goal_score, dtype: float64"
      ]
     },
     "execution_count": 18,
     "metadata": {},
     "output_type": "execute_result"
    }
   ],
   "source": [
    "df.corr()['goal_score'].sort_values()"
   ]
  },
  {
   "cell_type": "markdown",
   "id": "94cdf759",
   "metadata": {},
   "source": [
    "<p>It can be seen that only <strong>\"rating_diff\"</strong> has a considerable relationship with target <strong>goal_score</strong>. So now, I will try fitting the initial Simple Linear Regression first.</p>"
   ]
  },
  {
   "cell_type": "markdown",
   "id": "19ef1c84",
   "metadata": {},
   "source": [
    "<h3>Simple Linear Regression</h3>"
   ]
  },
  {
   "cell_type": "code",
   "execution_count": 19,
   "id": "3bdee8e6",
   "metadata": {},
   "outputs": [
    {
     "data": {
      "text/plain": [
       "0.24759271796053217"
      ]
     },
     "execution_count": 19,
     "metadata": {},
     "output_type": "execute_result"
    }
   ],
   "source": [
    "from sklearn.linear_model import LinearRegression\n",
    "lm = LinearRegression()\n",
    "\n",
    "#Define variables\n",
    "x= df[['rating_diff']]\n",
    "y= df['goal_score']\n",
    "\n",
    "from sklearn.model_selection import train_test_split\n",
    "x_train, x_test, y_train, y_test = train_test_split(x, y, test_size=0.2, random_state=1)\n",
    "\n",
    "lm.fit(x_train,y_train)\n",
    "lm.score(x_test,y_test)"
   ]
  },
  {
   "cell_type": "markdown",
   "id": "9ec7d6e2",
   "metadata": {},
   "source": [
    "<p>The model has <strong>R squared ~ 0.25</strong>, which means only about 25% of the data can be explained by the model.</p>"
   ]
  },
  {
   "cell_type": "code",
   "execution_count": 5,
   "id": "089783bb",
   "metadata": {},
   "outputs": [
    {
     "name": "stderr",
     "output_type": "stream",
     "text": [
      "/Users/dobaophuc/opt/anaconda3/lib/python3.9/site-packages/seaborn/_decorators.py:36: FutureWarning: Pass the following variables as keyword args: x, y. From version 0.12, the only valid positional argument will be `data`, and passing other arguments without an explicit keyword will result in an error or misinterpretation.\n",
      "  warnings.warn(\n"
     ]
    },
    {
     "data": {
      "text/plain": [
       "<AxesSubplot:xlabel='rating_diff', ylabel='score'>"
      ]
     },
     "execution_count": 5,
     "metadata": {},
     "output_type": "execute_result"
    },
    {
     "data": {
      "image/png": "[encoded data removed]",
      "text/plain": [
       "<Figure size 640x480 with 1 Axes>"
      ]
     },
     "metadata": {},
     "output_type": "display_data"
    }
   ],
   "source": [
    "sns.regplot(x,y)"
   ]
  },
  {
   "cell_type": "code",
   "execution_count": 6,
   "id": "b93052f5",
   "metadata": {
    "scrolled": false
   },
   "outputs": [
    {
     "data": {
      "text/plain": [
       "<AxesSubplot:xlabel='rating_diff', ylabel='score'>"
      ]
     },
     "execution_count": 6,
     "metadata": {},
     "output_type": "execute_result"
    },
    {
     "data": {
      "image/png": "[encoded data removed]",
      "text/plain": [
       "<Figure size 640x480 with 1 Axes>"
      ]
     },
     "metadata": {},
     "output_type": "display_data"
    }
   ],
   "source": [
    "sns.residplot(x,y)"
   ]
  },
  {
   "cell_type": "markdown",
   "id": "9ac43e9c",
   "metadata": {},
   "source": [
    "<p>Also, <strong>residual plot</strong> doesn't show the data points are randomly distributed, which means the estimation is biased. Now let's try fitting the <strong>Polynomial Model</strong>...</p>"
   ]
  },
  {
   "cell_type": "markdown",
   "id": "0d67ba0a",
   "metadata": {},
   "source": [
    "<h3>Polynomial Regression</h3>"
   ]
  },
  {
   "cell_type": "markdown",
   "id": "33b39b14",
   "metadata": {},
   "source": [
    "<p>First, we need to test <strong>which order of the polynomial regression will be the best</strong> for our dataset.</p>"
   ]
  },
  {
   "cell_type": "code",
   "execution_count": 20,
   "id": "25e48643",
   "metadata": {},
   "outputs": [
    {
     "data": {
      "text/plain": [
       "[0.24759271796053217,\n",
       " 0.28511966165837876,\n",
       " 0.28784244923936597,\n",
       " 0.28767396187138583,\n",
       " 0.2867349318256427,\n",
       " 0.2776351733522302]"
      ]
     },
     "execution_count": 20,
     "metadata": {},
     "output_type": "execute_result"
    }
   ],
   "source": [
    "from sklearn.preprocessing import PolynomialFeatures\n",
    "\n",
    "Rsqu_test=[]\n",
    "order = [1,2,3,4,5,6]\n",
    "for n in order:\n",
    "    pr = PolynomialFeatures(degree=n)\n",
    "    x_train_pr = pr.fit_transform(x_train)\n",
    "    x_test_pr = pr.fit_transform(x_test)\n",
    "    poly = LinearRegression()\n",
    "    poly.fit(x_train_pr,y_train)\n",
    "    Rsqu_test.append(poly.score(x_test_pr,y_test))\n",
    "Rsqu_test\n"
   ]
  },
  {
   "cell_type": "markdown",
   "id": "93883b5e",
   "metadata": {},
   "source": [
    "<p>It is at <strong>order = 3</strong> when R squared reaches its highest score, and R squared has been improved (though not much)  to <strong>~0.2878</strong>.</p>"
   ]
  },
  {
   "cell_type": "code",
   "execution_count": 21,
   "id": "d5aa3277",
   "metadata": {},
   "outputs": [
    {
     "name": "stdout",
     "output_type": "stream",
     "text": [
      "[0.00000000e+00 2.30757045e-03 2.07902549e-06 8.76950091e-10]\n",
      "1.1499812113372192\n"
     ]
    }
   ],
   "source": [
    "pr = PolynomialFeatures(degree=3)\n",
    "x_pr = pr.fit_transform(x)\n",
    "poly.fit(x_pr,y)\n",
    "print(poly.coef_)\n",
    "print(poly.intercept_)\n",
    "\n"
   ]
  },
  {
   "cell_type": "code",
   "execution_count": 31,
   "id": "7fb904af",
   "metadata": {},
   "outputs": [
    {
     "name": "stdout",
     "output_type": "stream",
     "text": [
      "The function for predicting a team s goal is:\n",
      "          3             2\n",
      "8.77e-10 x + 2.079e-06 x + 0.002308 x + 1.15\n",
      "\n",
      "where x = rating_diff\n"
     ]
    }
   ],
   "source": [
    "x1= df['rating_diff']\n",
    "y1= df['goal_score']\n",
    "f = np.polyfit(x1, y1, 3) #return an array of b0,b1,b2,...\n",
    "p= np.poly1d(f) #return the function\n",
    "print('The function for predicting a team s goal is:')\n",
    "print(p)\n",
    "print('')\n",
    "print('where x = rating_diff')"
   ]
  },
  {
   "cell_type": "markdown",
   "id": "20058a00",
   "metadata": {},
   "source": [
    "<p>Now, from <a href=\"https://www.fifa.com/fifa-world-ranking/\">https://www.fifa.com/fifa-world-ranking/</a>, I have the current rating of UAE and Thailand are respectively 1338.48 and 1173.4, so the <strong>rating_diff = 165.08</strong>.</h4> "
   ]
  },
  {
   "cell_type": "code",
   "execution_count": 10,
   "id": "78ea8ae7",
   "metadata": {},
   "outputs": [
    {
     "data": {
      "text/plain": [
       "array([1.59151641])"
      ]
     },
     "execution_count": 10,
     "metadata": {},
     "output_type": "execute_result"
    }
   ],
   "source": [
    "varUAE = pr.fit_transform([[165.08]])\n",
    "poly.predict(varUAE)"
   ]
  },
  {
   "cell_type": "code",
   "execution_count": 11,
   "id": "a9d2a1fa",
   "metadata": {},
   "outputs": [
    {
     "data": {
      "text/plain": [
       "array([0.82175875])"
      ]
     },
     "execution_count": 11,
     "metadata": {},
     "output_type": "execute_result"
    }
   ],
   "source": [
    "varTHA = pr.fit_transform([[-165.08]])\n",
    "poly.predict(varTHA)"
   ]
  },
  {
   "cell_type": "markdown",
   "id": "a20b878e",
   "metadata": {},
   "source": [
    "<h2>Answer:</h2>\n",
    "<h4>In the next football match, UAE will score ~1.59 and Thailand will score ~0.82 goal.</h4>"
   ]
  },
  {
   "cell_type": "markdown",
   "id": "de856fc3",
   "metadata": {},
   "source": [
    "<h3>Thanks for watching!</h3>"
   ]
  },
  {
   "cell_type": "code",
   "execution_count": null,
   "id": "01f88ef6",
   "metadata": {},
   "outputs": [],
   "source": []
  }
 ],
 "metadata": {
  "kernelspec": {
   "display_name": "Python 3 (ipykernel)",
   "language": "python",
   "name": "python3"
  },
  "language_info": {
   "codemirror_mode": {
    "name": "ipython",
    "version": 3
   },
   "file_extension": ".py",
   "mimetype": "text/x-python",
   "name": "python",
   "nbconvert_exporter": "python",
   "pygments_lexer": "ipython3",
   "version": "3.9.13"
  }
 },
 "nbformat": 4,
 "nbformat_minor": 5
}

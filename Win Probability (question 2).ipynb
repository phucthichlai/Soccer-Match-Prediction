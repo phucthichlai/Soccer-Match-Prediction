{
 "cells": [
  {
   "cell_type": "markdown",
   "id": "3671981d",
   "metadata": {},
   "source": [
    "<h3>Question 2: Please estimate the UAE win probability.(win/draw/lose)</h3>"
   ]
  },
  {
   "cell_type": "code",
   "execution_count": 1,
   "id": "e608f19e",
   "metadata": {},
   "outputs": [],
   "source": [
    "import pandas as pd\n",
    "import numpy as np\n",
    "import matplotlib.pyplot as plt\n",
    "import seaborn as sns"
   ]
  },
  {
   "cell_type": "markdown",
   "id": "ce71eb43",
   "metadata": {},
   "source": [
    "<h2>Processing data on Excel</h2>\n",
    "\n",
    "<p>With the dataset \"datapro1\" for question 2, I remain all the columns of \"datapro\" in question 1, and just modified a little bit the the question's analyzing purpose:</p>\n",
    "\n",
    "<ul>\n",
    "<li>The \"year\" and \"date\" columns were not removed.</li>\n",
    "<li>A \"result\" column was added, which indicated whether the team win, draw, or lose (the respective values are 2,1, and 0).</li>"
   ]
  },
  {
   "cell_type": "code",
   "execution_count": 2,
   "id": "4f518b8c",
   "metadata": {},
   "outputs": [
    {
     "data": {
      "text/html": [
       "<div>\n",
       "<style scoped>\n",
       "    .dataframe tbody tr th:only-of-type {\n",
       "        vertical-align: middle;\n",
       "    }\n",
       "\n",
       "    .dataframe tbody tr th {\n",
       "        vertical-align: top;\n",
       "    }\n",
       "\n",
       "    .dataframe thead th {\n",
       "        text-align: right;\n",
       "    }\n",
       "</style>\n",
       "<table border=\"1\" class=\"dataframe\">\n",
       "  <thead>\n",
       "    <tr style=\"text-align: right;\">\n",
       "      <th></th>\n",
       "      <th>year</th>\n",
       "      <th>date</th>\n",
       "      <th>tournament</th>\n",
       "      <th>team</th>\n",
       "      <th>rating</th>\n",
       "      <th>opp_rating</th>\n",
       "      <th>goal_score</th>\n",
       "      <th>goal_conceded</th>\n",
       "      <th>home_advantage</th>\n",
       "      <th>rating_diff</th>\n",
       "      <th>result</th>\n",
       "    </tr>\n",
       "  </thead>\n",
       "  <tbody>\n",
       "    <tr>\n",
       "      <th>0</th>\n",
       "      <td>2018</td>\n",
       "      <td>January 2</td>\n",
       "      <td>Gulf Cup</td>\n",
       "      <td>Iraq</td>\n",
       "      <td>1570</td>\n",
       "      <td>1560</td>\n",
       "      <td>0</td>\n",
       "      <td>0</td>\n",
       "      <td>0</td>\n",
       "      <td>10</td>\n",
       "      <td>1</td>\n",
       "    </tr>\n",
       "    <tr>\n",
       "      <th>1</th>\n",
       "      <td>2018</td>\n",
       "      <td>January 2</td>\n",
       "      <td>Gulf Cup</td>\n",
       "      <td>Oman</td>\n",
       "      <td>1511</td>\n",
       "      <td>1418</td>\n",
       "      <td>1</td>\n",
       "      <td>0</td>\n",
       "      <td>0</td>\n",
       "      <td>93</td>\n",
       "      <td>2</td>\n",
       "    </tr>\n",
       "    <tr>\n",
       "      <th>2</th>\n",
       "      <td>2018</td>\n",
       "      <td>January 5</td>\n",
       "      <td>Gulf Cup</td>\n",
       "      <td>United Arab Emirates</td>\n",
       "      <td>1561</td>\n",
       "      <td>1526</td>\n",
       "      <td>0</td>\n",
       "      <td>0</td>\n",
       "      <td>0</td>\n",
       "      <td>35</td>\n",
       "      <td>1</td>\n",
       "    </tr>\n",
       "    <tr>\n",
       "      <th>3</th>\n",
       "      <td>2018</td>\n",
       "      <td>January 7</td>\n",
       "      <td>Friendly</td>\n",
       "      <td>Sweden</td>\n",
       "      <td>1825</td>\n",
       "      <td>1508</td>\n",
       "      <td>1</td>\n",
       "      <td>1</td>\n",
       "      <td>0</td>\n",
       "      <td>317</td>\n",
       "      <td>1</td>\n",
       "    </tr>\n",
       "    <tr>\n",
       "      <th>4</th>\n",
       "      <td>2018</td>\n",
       "      <td>January 11</td>\n",
       "      <td>Friendly</td>\n",
       "      <td>Finland</td>\n",
       "      <td>1595</td>\n",
       "      <td>1480</td>\n",
       "      <td>2</td>\n",
       "      <td>1</td>\n",
       "      <td>0</td>\n",
       "      <td>115</td>\n",
       "      <td>2</td>\n",
       "    </tr>\n",
       "  </tbody>\n",
       "</table>\n",
       "</div>"
      ],
      "text/plain": [
       "   year        date tournament                  team  rating  opp_rating  \\\n",
       "0  2018   January 2   Gulf Cup                  Iraq    1570        1560   \n",
       "1  2018   January 2   Gulf Cup                  Oman    1511        1418   \n",
       "2  2018   January 5   Gulf Cup  United Arab Emirates    1561        1526   \n",
       "3  2018   January 7   Friendly                Sweden    1825        1508   \n",
       "4  2018  January 11   Friendly               Finland    1595        1480   \n",
       "\n",
       "   goal_score  goal_conceded  home_advantage  rating_diff  result  \n",
       "0           0              0               0           10       1  \n",
       "1           1              0               0           93       2  \n",
       "2           0              0               0           35       1  \n",
       "3           1              1               0          317       1  \n",
       "4           2              1               0          115       2  "
      ]
     },
     "execution_count": 2,
     "metadata": {},
     "output_type": "execute_result"
    }
   ],
   "source": [
    "data = \"/Users/dobaophuc/Documents/học data analyst/dataset/World Football Results 2018 to 2023.xlsx\"\n",
    "df = pd.read_excel(data, sheet_name ='datapro1')\n",
    "df.head()"
   ]
  },
  {
   "cell_type": "markdown",
   "id": "58addea3",
   "metadata": {},
   "source": [
    "<p>Here, I'm trying to combine the day, month and year into 1 column named \"date\"...</p>"
   ]
  },
  {
   "cell_type": "code",
   "execution_count": 3,
   "id": "b710403b",
   "metadata": {
    "scrolled": true
   },
   "outputs": [],
   "source": [
    "df[['month','day']]=df['date'].str.split(' ', expand=True)"
   ]
  },
  {
   "cell_type": "code",
   "execution_count": 4,
   "id": "d8d2eb67",
   "metadata": {},
   "outputs": [],
   "source": [
    "df['day']=df['day'].astype(int)"
   ]
  },
  {
   "cell_type": "code",
   "execution_count": 5,
   "id": "170ffa83",
   "metadata": {},
   "outputs": [],
   "source": [
    "df['month']=df['month'].map({'January': 1,\n",
    "            'February': 2,\n",
    "            'March': 3,\n",
    "            'April': 4,\n",
    "            'May': 5,\n",
    "            'June': 6,\n",
    "            'July': 7,\n",
    "            'August': 8,\n",
    "            'September': 9, \n",
    "            'October': 10,\n",
    "            'November': 11,\n",
    "            'December': 12})"
   ]
  },
  {
   "cell_type": "code",
   "execution_count": 6,
   "id": "b6a49580",
   "metadata": {},
   "outputs": [],
   "source": [
    "df['date'] = pd.to_datetime(df[['year','month','day']])"
   ]
  },
  {
   "cell_type": "code",
   "execution_count": 7,
   "id": "3b053680",
   "metadata": {},
   "outputs": [
    {
     "data": {
      "text/html": [
       "<div>\n",
       "<style scoped>\n",
       "    .dataframe tbody tr th:only-of-type {\n",
       "        vertical-align: middle;\n",
       "    }\n",
       "\n",
       "    .dataframe tbody tr th {\n",
       "        vertical-align: top;\n",
       "    }\n",
       "\n",
       "    .dataframe thead th {\n",
       "        text-align: right;\n",
       "    }\n",
       "</style>\n",
       "<table border=\"1\" class=\"dataframe\">\n",
       "  <thead>\n",
       "    <tr style=\"text-align: right;\">\n",
       "      <th></th>\n",
       "      <th>date</th>\n",
       "      <th>tournament</th>\n",
       "      <th>team</th>\n",
       "      <th>rating</th>\n",
       "      <th>opp_rating</th>\n",
       "      <th>goal_score</th>\n",
       "      <th>goal_conceded</th>\n",
       "      <th>home_advantage</th>\n",
       "      <th>rating_diff</th>\n",
       "      <th>result</th>\n",
       "    </tr>\n",
       "  </thead>\n",
       "  <tbody>\n",
       "    <tr>\n",
       "      <th>0</th>\n",
       "      <td>2018-01-02</td>\n",
       "      <td>Gulf Cup</td>\n",
       "      <td>Iraq</td>\n",
       "      <td>1570</td>\n",
       "      <td>1560</td>\n",
       "      <td>0</td>\n",
       "      <td>0</td>\n",
       "      <td>0</td>\n",
       "      <td>10</td>\n",
       "      <td>1</td>\n",
       "    </tr>\n",
       "    <tr>\n",
       "      <th>1</th>\n",
       "      <td>2018-01-02</td>\n",
       "      <td>Gulf Cup</td>\n",
       "      <td>Oman</td>\n",
       "      <td>1511</td>\n",
       "      <td>1418</td>\n",
       "      <td>1</td>\n",
       "      <td>0</td>\n",
       "      <td>0</td>\n",
       "      <td>93</td>\n",
       "      <td>2</td>\n",
       "    </tr>\n",
       "    <tr>\n",
       "      <th>2</th>\n",
       "      <td>2018-01-05</td>\n",
       "      <td>Gulf Cup</td>\n",
       "      <td>United Arab Emirates</td>\n",
       "      <td>1561</td>\n",
       "      <td>1526</td>\n",
       "      <td>0</td>\n",
       "      <td>0</td>\n",
       "      <td>0</td>\n",
       "      <td>35</td>\n",
       "      <td>1</td>\n",
       "    </tr>\n",
       "    <tr>\n",
       "      <th>3</th>\n",
       "      <td>2018-01-07</td>\n",
       "      <td>Friendly</td>\n",
       "      <td>Sweden</td>\n",
       "      <td>1825</td>\n",
       "      <td>1508</td>\n",
       "      <td>1</td>\n",
       "      <td>1</td>\n",
       "      <td>0</td>\n",
       "      <td>317</td>\n",
       "      <td>1</td>\n",
       "    </tr>\n",
       "    <tr>\n",
       "      <th>4</th>\n",
       "      <td>2018-01-11</td>\n",
       "      <td>Friendly</td>\n",
       "      <td>Finland</td>\n",
       "      <td>1595</td>\n",
       "      <td>1480</td>\n",
       "      <td>2</td>\n",
       "      <td>1</td>\n",
       "      <td>0</td>\n",
       "      <td>115</td>\n",
       "      <td>2</td>\n",
       "    </tr>\n",
       "  </tbody>\n",
       "</table>\n",
       "</div>"
      ],
      "text/plain": [
       "        date tournament                  team  rating  opp_rating  goal_score  \\\n",
       "0 2018-01-02   Gulf Cup                  Iraq    1570        1560           0   \n",
       "1 2018-01-02   Gulf Cup                  Oman    1511        1418           1   \n",
       "2 2018-01-05   Gulf Cup  United Arab Emirates    1561        1526           0   \n",
       "3 2018-01-07   Friendly                Sweden    1825        1508           1   \n",
       "4 2018-01-11   Friendly               Finland    1595        1480           2   \n",
       "\n",
       "   goal_conceded  home_advantage  rating_diff  result  \n",
       "0              0               0           10       1  \n",
       "1              0               0           93       2  \n",
       "2              0               0           35       1  \n",
       "3              1               0          317       1  \n",
       "4              1               0          115       2  "
      ]
     },
     "execution_count": 7,
     "metadata": {},
     "output_type": "execute_result"
    }
   ],
   "source": [
    "df.drop(['year','month','day'],axis =1, inplace = True)\n",
    "df.head()"
   ]
  },
  {
   "cell_type": "code",
   "execution_count": 8,
   "id": "0529124a",
   "metadata": {},
   "outputs": [
    {
     "data": {
      "text/plain": [
       "date              datetime64[ns]\n",
       "tournament                object\n",
       "team                      object\n",
       "rating                     int64\n",
       "opp_rating                 int64\n",
       "goal_score                 int64\n",
       "goal_conceded              int64\n",
       "home_advantage             int64\n",
       "rating_diff                int64\n",
       "result                     int64\n",
       "dtype: object"
      ]
     },
     "execution_count": 8,
     "metadata": {},
     "output_type": "execute_result"
    }
   ],
   "source": [
    "df.dtypes"
   ]
  },
  {
   "cell_type": "markdown",
   "id": "1333240a",
   "metadata": {},
   "source": [
    "<p>Now, the task is to predict the win probability of UAE, ot it could be understood that we have to predict <strong>the probability when the \"result\" equals to 2,1, and 0</strong> in the match UAE vs Thailand. With this, I would try the <strong>Random Forest Regression model</strong> because it works really well with classification problems.</p>"
   ]
  },
  {
   "cell_type": "code",
   "execution_count": 10,
   "id": "d090570e",
   "metadata": {},
   "outputs": [],
   "source": [
    "from sklearn.ensemble import RandomForestClassifier\n",
    "from sklearn.metrics import accuracy_score, confusion_matrix, precision_score, recall_score, ConfusionMatrixDisplay\n",
    "from scipy.stats import randint\n",
    "from sklearn.model_selection import RandomizedSearchCV"
   ]
  },
  {
   "cell_type": "code",
   "execution_count": 11,
   "id": "1014ec35",
   "metadata": {},
   "outputs": [],
   "source": [
    "from sklearn.tree import export_graphviz\n",
    "from IPython.display import Image\n",
    "import graphviz"
   ]
  },
  {
   "cell_type": "markdown",
   "id": "a6837921",
   "metadata": {},
   "source": [
    "<p>I conduct train-test data spliting by date. Then, I store all the predictors into \"predictor\" variable.</p> "
   ]
  },
  {
   "cell_type": "code",
   "execution_count": 24,
   "id": "0285c157",
   "metadata": {},
   "outputs": [],
   "source": [
    "rf = RandomForestClassifier(n_estimators = 50, min_samples_split = 10, random_state = 1)\n",
    "train = df[df['date']<'2022-6-1']\n",
    "test = df[df['date']>'2022-6-1']\n",
    "predictor = ['opp_rating','home_advantage','rating','rating_diff']"
   ]
  },
  {
   "cell_type": "code",
   "execution_count": 25,
   "id": "1026af34",
   "metadata": {},
   "outputs": [
    {
     "data": {
      "text/html": [
       "<style>#sk-container-id-2 {color: black;background-color: white;}#sk-container-id-2 pre{padding: 0;}#sk-container-id-2 div.sk-toggleable {background-color: white;}#sk-container-id-2 label.sk-toggleable__label {cursor: pointer;display: block;width: 100%;margin-bottom: 0;padding: 0.3em;box-sizing: border-box;text-align: center;}#sk-container-id-2 label.sk-toggleable__label-arrow:before {content: \"▸\";float: left;margin-right: 0.25em;color: #696969;}#sk-container-id-2 label.sk-toggleable__label-arrow:hover:before {color: black;}#sk-container-id-2 div.sk-estimator:hover label.sk-toggleable__label-arrow:before {color: black;}#sk-container-id-2 div.sk-toggleable__content {max-height: 0;max-width: 0;overflow: hidden;text-align: left;background-color: #f0f8ff;}#sk-container-id-2 div.sk-toggleable__content pre {margin: 0.2em;color: black;border-radius: 0.25em;background-color: #f0f8ff;}#sk-container-id-2 input.sk-toggleable__control:checked~div.sk-toggleable__content {max-height: 200px;max-width: 100%;overflow: auto;}#sk-container-id-2 input.sk-toggleable__control:checked~label.sk-toggleable__label-arrow:before {content: \"▾\";}#sk-container-id-2 div.sk-estimator input.sk-toggleable__control:checked~label.sk-toggleable__label {background-color: #d4ebff;}#sk-container-id-2 div.sk-label input.sk-toggleable__control:checked~label.sk-toggleable__label {background-color: #d4ebff;}#sk-container-id-2 input.sk-hidden--visually {border: 0;clip: rect(1px 1px 1px 1px);clip: rect(1px, 1px, 1px, 1px);height: 1px;margin: -1px;overflow: hidden;padding: 0;position: absolute;width: 1px;}#sk-container-id-2 div.sk-estimator {font-family: monospace;background-color: #f0f8ff;border: 1px dotted black;border-radius: 0.25em;box-sizing: border-box;margin-bottom: 0.5em;}#sk-container-id-2 div.sk-estimator:hover {background-color: #d4ebff;}#sk-container-id-2 div.sk-parallel-item::after {content: \"\";width: 100%;border-bottom: 1px solid gray;flex-grow: 1;}#sk-container-id-2 div.sk-label:hover label.sk-toggleable__label {background-color: #d4ebff;}#sk-container-id-2 div.sk-serial::before {content: \"\";position: absolute;border-left: 1px solid gray;box-sizing: border-box;top: 0;bottom: 0;left: 50%;z-index: 0;}#sk-container-id-2 div.sk-serial {display: flex;flex-direction: column;align-items: center;background-color: white;padding-right: 0.2em;padding-left: 0.2em;position: relative;}#sk-container-id-2 div.sk-item {position: relative;z-index: 1;}#sk-container-id-2 div.sk-parallel {display: flex;align-items: stretch;justify-content: center;background-color: white;position: relative;}#sk-container-id-2 div.sk-item::before, #sk-container-id-2 div.sk-parallel-item::before {content: \"\";position: absolute;border-left: 1px solid gray;box-sizing: border-box;top: 0;bottom: 0;left: 50%;z-index: -1;}#sk-container-id-2 div.sk-parallel-item {display: flex;flex-direction: column;z-index: 1;position: relative;background-color: white;}#sk-container-id-2 div.sk-parallel-item:first-child::after {align-self: flex-end;width: 50%;}#sk-container-id-2 div.sk-parallel-item:last-child::after {align-self: flex-start;width: 50%;}#sk-container-id-2 div.sk-parallel-item:only-child::after {width: 0;}#sk-container-id-2 div.sk-dashed-wrapped {border: 1px dashed gray;margin: 0 0.4em 0.5em 0.4em;box-sizing: border-box;padding-bottom: 0.4em;background-color: white;}#sk-container-id-2 div.sk-label label {font-family: monospace;font-weight: bold;display: inline-block;line-height: 1.2em;}#sk-container-id-2 div.sk-label-container {text-align: center;}#sk-container-id-2 div.sk-container {/* jupyter's `normalize.less` sets `[hidden] { display: none; }` but bootstrap.min.css set `[hidden] { display: none !important; }` so we also need the `!important` here to be able to override the default hidden behavior on the sphinx rendered scikit-learn.org. See: https://github.com/scikit-learn/scikit-learn/issues/21755 */display: inline-block !important;position: relative;}#sk-container-id-2 div.sk-text-repr-fallback {display: none;}</style><div id=\"sk-container-id-2\" class=\"sk-top-container\"><div class=\"sk-text-repr-fallback\"><pre>RandomForestClassifier(min_samples_split=10, n_estimators=50, random_state=1)</pre><b>In a Jupyter environment, please rerun this cell to show the HTML representation or trust the notebook. <br />On GitHub, the HTML representation is unable to render, please try loading this page with nbviewer.org.</b></div><div class=\"sk-container\" hidden><div class=\"sk-item\"><div class=\"sk-estimator sk-toggleable\"><input class=\"sk-toggleable__control sk-hidden--visually\" id=\"sk-estimator-id-2\" type=\"checkbox\" checked><label for=\"sk-estimator-id-2\" class=\"sk-toggleable__label sk-toggleable__label-arrow\">RandomForestClassifier</label><div class=\"sk-toggleable__content\"><pre>RandomForestClassifier(min_samples_split=10, n_estimators=50, random_state=1)</pre></div></div></div></div></div>"
      ],
      "text/plain": [
       "RandomForestClassifier(min_samples_split=10, n_estimators=50, random_state=1)"
      ]
     },
     "execution_count": 25,
     "metadata": {},
     "output_type": "execute_result"
    }
   ],
   "source": [
    "rf.fit(train[predictor],train['result'])"
   ]
  },
  {
   "cell_type": "code",
   "execution_count": 26,
   "id": "87315f9c",
   "metadata": {},
   "outputs": [
    {
     "data": {
      "text/plain": [
       "0.5476190476190477"
      ]
     },
     "execution_count": 26,
     "metadata": {},
     "output_type": "execute_result"
    }
   ],
   "source": [
    "pred = rf.predict(test[predictor])\n",
    "accu = accuracy_score(test['result'],pred)\n",
    "accu"
   ]
  },
  {
   "cell_type": "code",
   "execution_count": 27,
   "id": "ad100d0c",
   "metadata": {},
   "outputs": [
    {
     "data": {
      "text/plain": [
       "array([[343,  66, 118],\n",
       "       [126,  74, 132],\n",
       "       [123,  62, 342]])"
      ]
     },
     "execution_count": 27,
     "metadata": {},
     "output_type": "execute_result"
    }
   ],
   "source": [
    "#combined = pd.DataFrame(dict(actual = test['result'],prediction = pred))\n",
    "#pd.crosstab(index = combined['actual'], columns = combined['prediction'])\n",
    "\n",
    "#just to be quick\n",
    "confusion_matrix(test['result'],pred)"
   ]
  },
  {
   "cell_type": "code",
   "execution_count": 28,
   "id": "8829d132",
   "metadata": {},
   "outputs": [
    {
     "data": {
      "text/plain": [
       "array([1, 2, 2, 2, 2])"
      ]
     },
     "execution_count": 28,
     "metadata": {},
     "output_type": "execute_result"
    }
   ],
   "source": [
    "pred[0:5]"
   ]
  },
  {
   "cell_type": "markdown",
   "id": "e6966147",
   "metadata": {},
   "source": [
    "<h4>Comment:</h4><p>After fititng the initial Random Forest Regression, the model gives an accuracy score of <strong>~54.76%</strong>, which is quite good! But I'll try to improve it by parameters tuning.</p>"
   ]
  },
  {
   "cell_type": "markdown",
   "id": "161ed27d",
   "metadata": {},
   "source": [
    "<p>testing precision score...</p>"
   ]
  },
  {
   "cell_type": "code",
   "execution_count": 29,
   "id": "498c6977",
   "metadata": {},
   "outputs": [
    {
     "data": {
      "text/plain": [
       "0.5476190476190477"
      ]
     },
     "execution_count": 29,
     "metadata": {},
     "output_type": "execute_result"
    }
   ],
   "source": [
    "precision_score(test['result'],pred, average = 'micro')"
   ]
  },
  {
   "cell_type": "markdown",
   "id": "408090a8",
   "metadata": {},
   "source": [
    "<p>Just like finding the best order for the polynomial model in question 1, now I begin finding the best parameters  for the Random Forest Regression model, such as <strong>max_depth, min_samples_leaf, and n_estimators</strong>, also known as <strong>parameter tuning</strong> process...</p>"
   ]
  },
  {
   "cell_type": "code",
   "execution_count": 33,
   "id": "dc5af4a9",
   "metadata": {},
   "outputs": [],
   "source": [
    "rf = RandomForestClassifier(random_state=42, n_jobs=-1)\n",
    "params = {\n",
    "    'max_depth': [2,3,5,10,20],\n",
    "    'min_samples_leaf': [5,10,20,50,100,200],\n",
    "    'n_estimators': [10,25,30,50,100,200]\n",
    "}\n",
    "from sklearn.model_selection import GridSearchCV\n",
    "# Instantiate the grid search model\n",
    "grid_search = GridSearchCV(estimator=rf,\n",
    "                           param_grid=params,\n",
    "                           cv = 4,\n",
    "                           n_jobs=-1, verbose=1, scoring=\"accuracy\")"
   ]
  },
  {
   "cell_type": "code",
   "execution_count": 34,
   "id": "9e46881c",
   "metadata": {},
   "outputs": [
    {
     "name": "stdout",
     "output_type": "stream",
     "text": [
      "Fitting 4 folds for each of 180 candidates, totalling 720 fits\n"
     ]
    },
    {
     "data": {
      "text/plain": [
       "0.5589613107469997"
      ]
     },
     "execution_count": 34,
     "metadata": {},
     "output_type": "execute_result"
    }
   ],
   "source": [
    "grid_search.fit(train[predictor], train['result'])\n",
    "grid_search.best_score_"
   ]
  },
  {
   "cell_type": "code",
   "execution_count": 35,
   "id": "5f931307",
   "metadata": {},
   "outputs": [
    {
     "data": {
      "text/html": [
       "<style>#sk-container-id-4 {color: black;background-color: white;}#sk-container-id-4 pre{padding: 0;}#sk-container-id-4 div.sk-toggleable {background-color: white;}#sk-container-id-4 label.sk-toggleable__label {cursor: pointer;display: block;width: 100%;margin-bottom: 0;padding: 0.3em;box-sizing: border-box;text-align: center;}#sk-container-id-4 label.sk-toggleable__label-arrow:before {content: \"▸\";float: left;margin-right: 0.25em;color: #696969;}#sk-container-id-4 label.sk-toggleable__label-arrow:hover:before {color: black;}#sk-container-id-4 div.sk-estimator:hover label.sk-toggleable__label-arrow:before {color: black;}#sk-container-id-4 div.sk-toggleable__content {max-height: 0;max-width: 0;overflow: hidden;text-align: left;background-color: #f0f8ff;}#sk-container-id-4 div.sk-toggleable__content pre {margin: 0.2em;color: black;border-radius: 0.25em;background-color: #f0f8ff;}#sk-container-id-4 input.sk-toggleable__control:checked~div.sk-toggleable__content {max-height: 200px;max-width: 100%;overflow: auto;}#sk-container-id-4 input.sk-toggleable__control:checked~label.sk-toggleable__label-arrow:before {content: \"▾\";}#sk-container-id-4 div.sk-estimator input.sk-toggleable__control:checked~label.sk-toggleable__label {background-color: #d4ebff;}#sk-container-id-4 div.sk-label input.sk-toggleable__control:checked~label.sk-toggleable__label {background-color: #d4ebff;}#sk-container-id-4 input.sk-hidden--visually {border: 0;clip: rect(1px 1px 1px 1px);clip: rect(1px, 1px, 1px, 1px);height: 1px;margin: -1px;overflow: hidden;padding: 0;position: absolute;width: 1px;}#sk-container-id-4 div.sk-estimator {font-family: monospace;background-color: #f0f8ff;border: 1px dotted black;border-radius: 0.25em;box-sizing: border-box;margin-bottom: 0.5em;}#sk-container-id-4 div.sk-estimator:hover {background-color: #d4ebff;}#sk-container-id-4 div.sk-parallel-item::after {content: \"\";width: 100%;border-bottom: 1px solid gray;flex-grow: 1;}#sk-container-id-4 div.sk-label:hover label.sk-toggleable__label {background-color: #d4ebff;}#sk-container-id-4 div.sk-serial::before {content: \"\";position: absolute;border-left: 1px solid gray;box-sizing: border-box;top: 0;bottom: 0;left: 50%;z-index: 0;}#sk-container-id-4 div.sk-serial {display: flex;flex-direction: column;align-items: center;background-color: white;padding-right: 0.2em;padding-left: 0.2em;position: relative;}#sk-container-id-4 div.sk-item {position: relative;z-index: 1;}#sk-container-id-4 div.sk-parallel {display: flex;align-items: stretch;justify-content: center;background-color: white;position: relative;}#sk-container-id-4 div.sk-item::before, #sk-container-id-4 div.sk-parallel-item::before {content: \"\";position: absolute;border-left: 1px solid gray;box-sizing: border-box;top: 0;bottom: 0;left: 50%;z-index: -1;}#sk-container-id-4 div.sk-parallel-item {display: flex;flex-direction: column;z-index: 1;position: relative;background-color: white;}#sk-container-id-4 div.sk-parallel-item:first-child::after {align-self: flex-end;width: 50%;}#sk-container-id-4 div.sk-parallel-item:last-child::after {align-self: flex-start;width: 50%;}#sk-container-id-4 div.sk-parallel-item:only-child::after {width: 0;}#sk-container-id-4 div.sk-dashed-wrapped {border: 1px dashed gray;margin: 0 0.4em 0.5em 0.4em;box-sizing: border-box;padding-bottom: 0.4em;background-color: white;}#sk-container-id-4 div.sk-label label {font-family: monospace;font-weight: bold;display: inline-block;line-height: 1.2em;}#sk-container-id-4 div.sk-label-container {text-align: center;}#sk-container-id-4 div.sk-container {/* jupyter's `normalize.less` sets `[hidden] { display: none; }` but bootstrap.min.css set `[hidden] { display: none !important; }` so we also need the `!important` here to be able to override the default hidden behavior on the sphinx rendered scikit-learn.org. See: https://github.com/scikit-learn/scikit-learn/issues/21755 */display: inline-block !important;position: relative;}#sk-container-id-4 div.sk-text-repr-fallback {display: none;}</style><div id=\"sk-container-id-4\" class=\"sk-top-container\"><div class=\"sk-text-repr-fallback\"><pre>RandomForestClassifier(max_depth=5, min_samples_leaf=50, n_estimators=10,\n",
       "                       n_jobs=-1, random_state=42)</pre><b>In a Jupyter environment, please rerun this cell to show the HTML representation or trust the notebook. <br />On GitHub, the HTML representation is unable to render, please try loading this page with nbviewer.org.</b></div><div class=\"sk-container\" hidden><div class=\"sk-item\"><div class=\"sk-estimator sk-toggleable\"><input class=\"sk-toggleable__control sk-hidden--visually\" id=\"sk-estimator-id-4\" type=\"checkbox\" checked><label for=\"sk-estimator-id-4\" class=\"sk-toggleable__label sk-toggleable__label-arrow\">RandomForestClassifier</label><div class=\"sk-toggleable__content\"><pre>RandomForestClassifier(max_depth=5, min_samples_leaf=50, n_estimators=10,\n",
       "                       n_jobs=-1, random_state=42)</pre></div></div></div></div></div>"
      ],
      "text/plain": [
       "RandomForestClassifier(max_depth=5, min_samples_leaf=50, n_estimators=10,\n",
       "                       n_jobs=-1, random_state=42)"
      ]
     },
     "execution_count": 35,
     "metadata": {},
     "output_type": "execute_result"
    }
   ],
   "source": [
    "rf_best = grid_search.best_estimator_\n",
    "rf_best"
   ]
  },
  {
   "cell_type": "markdown",
   "id": "d186d6e9",
   "metadata": {},
   "source": [
    "<p>We've found out the best parameters as above...</p>"
   ]
  },
  {
   "cell_type": "markdown",
   "id": "393adc4c",
   "metadata": {},
   "source": [
    "<h3>Retraining the Random Forest Model</h3>"
   ]
  },
  {
   "cell_type": "code",
   "execution_count": 36,
   "id": "9fb6ce44",
   "metadata": {},
   "outputs": [],
   "source": [
    "rf = RandomForestClassifier(max_depth =5, n_estimators = 10, min_samples_leaf= 50, random_state = 42)\n",
    "train = df[df['date']<'2022-6-1']\n",
    "test = df[df['date']>'2022-6-1']\n",
    "predictor = ['opp_rating','home_advantage','rating','rating_diff']"
   ]
  },
  {
   "cell_type": "code",
   "execution_count": 37,
   "id": "c9fbabfa",
   "metadata": {},
   "outputs": [
    {
     "data": {
      "text/plain": [
       "0.5634920634920635"
      ]
     },
     "execution_count": 37,
     "metadata": {},
     "output_type": "execute_result"
    }
   ],
   "source": [
    "rf.fit(train[predictor],train['result'])\n",
    "pred = rf.predict(test[predictor])\n",
    "accu = accuracy_score(test['result'],pred)\n",
    "accu"
   ]
  },
  {
   "cell_type": "markdown",
   "id": "398f1f76",
   "metadata": {},
   "source": [
    "<h4>Now we have improved the accuracy score a bit to 56.35% and proceed with the answer for the question...</h4>"
   ]
  },
  {
   "cell_type": "code",
   "execution_count": 38,
   "id": "7d371b99",
   "metadata": {},
   "outputs": [],
   "source": [
    "var = [[1173.4,1,1338.48,165.08]]"
   ]
  },
  {
   "cell_type": "code",
   "execution_count": 39,
   "id": "8f971cd3",
   "metadata": {},
   "outputs": [
    {
     "name": "stderr",
     "output_type": "stream",
     "text": [
      "/Users/dobaophuc/opt/anaconda3/lib/python3.9/site-packages/sklearn/base.py:450: UserWarning: X does not have valid feature names, but RandomForestClassifier was fitted with feature names\n",
      "  warnings.warn(\n"
     ]
    },
    {
     "data": {
      "text/plain": [
       "array([[0.18411471, 0.23496287, 0.58092242]])"
      ]
     },
     "execution_count": 39,
     "metadata": {},
     "output_type": "execute_result"
    }
   ],
   "source": [
    "rf.predict_proba(var)"
   ]
  },
  {
   "cell_type": "markdown",
   "id": "ae140fa4",
   "metadata": {},
   "source": [
    "<h2>Answer:</h2>\n",
    "<h4>In the next football match vs Thailand, UAE will have ~58.09% WIN, ~23.50% DRAW, and ~18.41% LOSE.</h4>"
   ]
  },
  {
   "cell_type": "markdown",
   "id": "c0064b6c",
   "metadata": {},
   "source": [
    "<h3>Thanks for watching!</h3>"
   ]
  }
 ],
 "metadata": {
  "kernelspec": {
   "display_name": "Python 3 (ipykernel)",
   "language": "python",
   "name": "python3"
  },
  "language_info": {
   "codemirror_mode": {
    "name": "ipython",
    "version": 3
   },
   "file_extension": ".py",
   "mimetype": "text/x-python",
   "name": "python",
   "nbconvert_exporter": "python",
   "pygments_lexer": "ipython3",
   "version": "3.9.13"
  }
 },
 "nbformat": 4,
 "nbformat_minor": 5
}
